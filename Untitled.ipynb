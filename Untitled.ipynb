{
 "cells": [
  {
   "cell_type": "code",
   "execution_count": null,
   "id": "f985397c-eb3a-4fbd-83ee-b133faf738f4",
   "metadata": {},
   "outputs": [],
   "source": [
    "a=5\n",
    "b=2\n",
    "a+b\n",
    "\n",
    "c=3\n"
   ]
  },
  {
   "cell_type": "code",
   "execution_count": null,
   "id": "308dfd8e-b510-4d81-9c79-cb2b141f7add",
   "metadata": {},
   "outputs": [],
   "source": [
    "a=5\n",
    "b=2\n",
    "a+b\n",
    "\n",
    "c=3\n"
   ]
  },
  {
   "cell_type": "code",
   "execution_count": null,
   "id": "280bb87c-7308-4188-9417-8323950a95ed",
   "metadata": {},
   "outputs": [],
   "source": [
    "a=5\n",
    "b=2\n",
    "a+b\n",
    "\n",
    "c=3\n"
   ]
  },
  {
   "cell_type": "code",
   "execution_count": null,
   "id": "13d70b72-5a84-476f-aa01-6b00eac86100",
   "metadata": {},
   "outputs": [],
   "source": []
  }
 ],
 "metadata": {
  "kernelspec": {
   "display_name": "Python 3 (ipykernel)",
   "language": "python",
   "name": "python3"
  },
  "language_info": {
   "codemirror_mode": {
    "name": "ipython",
    "version": 3
   },
   "file_extension": ".py",
   "mimetype": "text/x-python",
   "name": "python",
   "nbconvert_exporter": "python",
   "pygments_lexer": "ipython3",
   "version": "3.12.9"
  }
 },
 "nbformat": 4,
 "nbformat_minor": 5
}
