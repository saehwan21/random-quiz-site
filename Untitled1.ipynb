{
 "cells": [
  {
   "cell_type": "code",
   "execution_count": 2,
   "id": "7ad3557b-b78b-43ff-a390-00a50202ffde",
   "metadata": {},
   "outputs": [
    {
     "name": "stdout",
     "output_type": "stream",
     "text": [
      "onetwo\n"
     ]
    }
   ],
   "source": [
    "print('{}{}'.format('one','two'))"
   ]
  },
  {
   "cell_type": "code",
   "execution_count": 4,
   "id": "52cf22b4-acb3-4485-abbb-424dc3a74969",
   "metadata": {},
   "outputs": [
    {
     "name": "stdout",
     "output_type": "stream",
     "text": [
      "art :       234234.00, bart=   59.03\n"
     ]
    }
   ],
   "source": [
    "print(\"art : %15.2f, bart=%8.2f\"%(234234, 59.032))"
   ]
  },
  {
   "cell_type": "code",
   "execution_count": 7,
   "id": "ef786c2c-97f9-4aa6-b251-5dd0b9d89723",
   "metadata": {},
   "outputs": [
    {
     "name": "stdout",
     "output_type": "stream",
     "text": [
      "Art :   483, price per unit:    59.26\n"
     ]
    }
   ],
   "source": [
    "print(\"Art : {0:5d}, price per unit: {1:8.2f}\".format(483,59.263))"
   ]
  },
  {
   "cell_type": "code",
   "execution_count": 9,
   "id": "3b492dab-8271-404b-8667-3b76ddbaedb1",
   "metadata": {},
   "outputs": [
    {
     "name": "stdout",
     "output_type": "stream",
     "text": [
      "p :      Apple, q :       5.23\n",
      "P : Apple     , q :       5.23\n"
     ]
    }
   ],
   "source": [
    "print(\"p : %10s, q : %10.2f\" %(\"Apple\", 5.234))\n",
    "print(\"P : {0:10s}, q : {1:10.2f}\".format(\"Apple\",5.234))"
   ]
  }
 ],
 "metadata": {
  "kernelspec": {
   "display_name": "Python 3 (ipykernel)",
   "language": "python",
   "name": "python3"
  },
  "language_info": {
   "codemirror_mode": {
    "name": "ipython",
    "version": 3
   },
   "file_extension": ".py",
   "mimetype": "text/x-python",
   "name": "python",
   "nbconvert_exporter": "python",
   "pygments_lexer": "ipython3",
   "version": "3.12.9"
  }
 },
 "nbformat": 4,
 "nbformat_minor": 5
}
